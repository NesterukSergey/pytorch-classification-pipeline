{
 "cells": [
  {
   "cell_type": "code",
   "execution_count": 1,
   "metadata": {},
   "outputs": [],
   "source": [
    "# import os\n",
    "# import time\n",
    "# import itertools\n",
    "\n",
    "# import matplotlib.pyplot as plt\n",
    "# import numpy as np\n",
    "# import pandas as pd\n",
    "\n",
    "# import torch\n",
    "# from torch import nn, optim\n",
    "# from torch.optim.lr_scheduler import ReduceLROnPlateau\n",
    "# import torch.nn.functional as F\n",
    "# from torch.utils.data import DataLoader\n",
    "# from torch.utils.data.dataset import Subset\n",
    "# import torchvision\n",
    "# from torchvision import datasets, transforms\n",
    "# from torchvision.transforms import Compose, ToTensor, Normalize\n",
    "# from torchvision.datasets import MNIST"
   ]
  },
  {
   "cell_type": "code",
   "execution_count": 2,
   "metadata": {},
   "outputs": [],
   "source": [
    "import torch\n",
    "from torch import nn"
   ]
  },
  {
   "cell_type": "code",
   "execution_count": 3,
   "metadata": {},
   "outputs": [],
   "source": [
    "from scripts.utils import *\n",
    "from scripts.tensorboard import *\n",
    "from scripts.dataloaders import *\n",
    "from scripts.trainers import *\n",
    "from scripts.models import *"
   ]
  },
  {
   "cell_type": "code",
   "execution_count": 4,
   "metadata": {},
   "outputs": [],
   "source": [
    "num_classes = 11"
   ]
  },
  {
   "cell_type": "code",
   "execution_count": 16,
   "metadata": {},
   "outputs": [],
   "source": [
    "# model_zoo = ['resnet18', 'resnet34', 'resnet50', 'alexnet', 'vgg', 'squeezenet', 'densenet', 'inception']"
   ]
  },
  {
   "cell_type": "code",
   "execution_count": 14,
   "metadata": {},
   "outputs": [],
   "source": [
    "def test_all_models(model_zoo):\n",
    "    for m in model_zoo:\n",
    "        for freeze in [True, False]:\n",
    "            print(m)\n",
    "            model, input_size = initialize_model(m, num_classes, feature_extract=freeze)\n",
    "            params = {\n",
    "                'train_batch_size': 8,\n",
    "                'val_batch_size': 8,\n",
    "                'epochs': 1,\n",
    "                'lr': 1e-3,\n",
    "                'verbose': True,\n",
    "                'tensorboard': False,\n",
    "                'log_interval': 10,\n",
    "                'log_dir': './tensorboard_logs',\n",
    "                'model_name': m,\n",
    "                'model': [model, input_size],\n",
    "                'criterion': nn.NLLLoss(),\n",
    "            #     'criterion': nn.CrossEntropyLoss(),\n",
    "                'optimizer': optim.Adam,\n",
    "                'early_stopping': True,\n",
    "                'early_stopping_patience': 11,\n",
    "                'lr_patience': 5,\n",
    "                'lr_factor': 0.25,\n",
    "                'min_lr': 1e-5,\n",
    "            }\n",
    "            \n",
    "            model, optimizer, scheduler, stats = train(params, get_Arctic_data_loaders, reduce_train=0.01)\n",
    "            print('__  --  __  --  __  --  __  --  __  --')\n",
    "    print('Fin')"
   ]
  },
  {
   "cell_type": "code",
   "execution_count": null,
   "metadata": {},
   "outputs": [],
   "source": []
  },
  {
   "cell_type": "code",
   "execution_count": 7,
   "metadata": {
    "collapsed": true,
    "jupyter": {
     "outputs_hidden": true
    }
   },
   "outputs": [
    {
     "name": "stdout",
     "output_type": "stream",
     "text": [
      "resnet18\n",
      "Device:  cuda\n",
      "Training Results - Epoch: 1  Avg accuracy: 0.29 Avg loss: -1.09\n",
      "Validation Results - Epoch: 1  Accuracy: 0.22  loss: -0.95\n",
      "Final accuracy:  0.218213058419244\n",
      "Confusion matrix:  tensor([[ 0,  1,  6, 12,  1,  1,  0,  0,  0,  0,  0],\n",
      "        [ 0, 35,  0, 10,  5,  0,  0,  0,  0,  0,  0],\n",
      "        [ 0,  6,  1,  6,  0,  0,  0,  0,  0,  2,  0],\n",
      "        [ 0, 91,  3, 41, 23,  1,  0,  0,  0,  1,  1],\n",
      "        [ 0, 48,  6, 56, 44,  9,  0,  0,  6,  3,  0],\n",
      "        [ 0,  5, 18,  8, 23,  5,  0,  0,  0,  1,  0],\n",
      "        [ 0,  2,  0,  7, 11,  0,  0,  0,  0,  0,  0],\n",
      "        [ 0, 10,  0, 13,  1,  0,  0,  0,  2,  0,  0],\n",
      "        [ 0,  4,  0, 27,  3,  0,  0,  0,  1,  0,  0],\n",
      "        [ 0,  0,  0,  8,  3,  0,  0,  0,  0,  0,  3],\n",
      "        [ 0,  3,  1,  4,  0,  0,  0,  0,  0,  0,  0]])\n",
      "Precision:  tensor([0.0000, 0.1707, 0.0286, 0.2135, 0.3860, 0.3125, 0.0000, 0.0000, 0.1111,\n",
      "        0.0000, 0.0000], dtype=torch.float64)\n",
      "Recall:  tensor([0.0000, 0.7000, 0.0667, 0.2547, 0.2558, 0.0833, 0.0000, 0.0000, 0.0286,\n",
      "        0.0000, 0.0000], dtype=torch.float64)\n",
      "__  --  __  --  __  --  __  --  __  --\n",
      "resnet18\n",
      "Device:  cuda\n",
      "Training Results - Epoch: 1  Avg accuracy: 0.88 Avg loss: -10.79\n",
      "Validation Results - Epoch: 1  Accuracy: 0.46  loss: -4.03\n",
      "Final accuracy:  0.46563573883161513\n",
      "Confusion matrix:  tensor([[  0,   0,   0,  21,   0,   0,   0,   0,   0,   0,   0],\n",
      "        [  0,   0,   0,  50,   0,   0,   0,   0,   0,   0,   0],\n",
      "        [  0,   0,  13,   2,   0,   0,   0,   0,   0,   0,   0],\n",
      "        [  0,   0,   0, 161,   0,   0,   0,   0,   0,   0,   0],\n",
      "        [  0,   0,   2,  81,  89,   0,   0,   0,   0,   0,   0],\n",
      "        [  0,   0,   0,  52,   0,   8,   0,   0,   0,   0,   0],\n",
      "        [  0,   0,   0,  18,   2,   0,   0,   0,   0,   0,   0],\n",
      "        [  0,   0,   0,  17,   8,   1,   0,   0,   0,   0,   0],\n",
      "        [  0,   0,   5,   9,  21,   0,   0,   0,   0,   0,   0],\n",
      "        [  0,   0,   0,  14,   0,   0,   0,   0,   0,   0,   0],\n",
      "        [  0,   0,   0,   5,   3,   0,   0,   0,   0,   0,   0]])\n",
      "Precision:  tensor([0.0000, 0.0000, 0.6500, 0.3744, 0.7236, 0.8889, 0.0000, 0.0000, 0.0000,\n",
      "        0.0000, 0.0000], dtype=torch.float64)\n",
      "Recall:  tensor([0.0000, 0.0000, 0.8667, 1.0000, 0.5174, 0.1333, 0.0000, 0.0000, 0.0000,\n",
      "        0.0000, 0.0000], dtype=torch.float64)\n",
      "__  --  __  --  __  --  __  --  __  --\n",
      "resnet34\n"
     ]
    },
    {
     "name": "stderr",
     "output_type": "stream",
     "text": [
      "Downloading: \"https://download.pytorch.org/models/resnet34-333f7ec4.pth\" to /home/sergey/.cache/torch/checkpoints/resnet34-333f7ec4.pth\n",
      "100%|██████████| 83.3M/83.3M [00:27<00:00, 3.16MB/s]\n"
     ]
    },
    {
     "name": "stdout",
     "output_type": "stream",
     "text": [
      "Device:  cuda\n",
      "Training Results - Epoch: 1  Avg accuracy: 0.18 Avg loss: -0.76\n",
      "Validation Results - Epoch: 1  Accuracy: 0.17  loss: -0.68\n",
      "Final accuracy:  0.1718213058419244\n",
      "Confusion matrix:  tensor([[ 0,  0,  0,  0, 19,  2,  0,  0,  0,  0,  0],\n",
      "        [22,  4,  2, 13,  8,  0,  0,  1,  0,  0,  0],\n",
      "        [ 0,  7,  0,  6,  2,  0,  0,  0,  0,  0,  0],\n",
      "        [16, 32,  4, 21, 62,  2, 20,  0,  0,  4,  0],\n",
      "        [ 1,  3,  0, 96, 71,  1,  0,  0,  0,  0,  0],\n",
      "        [ 0,  0,  0, 40, 20,  0,  0,  0,  0,  0,  0],\n",
      "        [ 0,  0,  0, 13,  7,  0,  0,  0,  0,  0,  0],\n",
      "        [ 0,  3,  1,  3, 15,  0,  0,  4,  0,  0,  0],\n",
      "        [ 0,  4,  0, 28,  1,  0,  2,  0,  0,  0,  0],\n",
      "        [ 0,  0,  2,  1,  4,  3,  1,  3,  0,  0,  0],\n",
      "        [ 0,  2,  1,  2,  3,  0,  0,  0,  0,  0,  0]])\n",
      "Precision:  tensor([0.0000, 0.0727, 0.0000, 0.0942, 0.3349, 0.0000, 0.0000, 0.5000, 0.0000,\n",
      "        0.0000, 0.0000], dtype=torch.float64)\n",
      "Recall:  tensor([0.0000, 0.0800, 0.0000, 0.1304, 0.4128, 0.0000, 0.0000, 0.1538, 0.0000,\n",
      "        0.0000, 0.0000], dtype=torch.float64)\n",
      "__  --  __  --  __  --  __  --  __  --\n",
      "resnet34\n",
      "Device:  cuda\n",
      "Training Results - Epoch: 1  Avg accuracy: 0.76 Avg loss: -44.89\n",
      "Validation Results - Epoch: 1  Accuracy: 0.45  loss: -28.67\n",
      "Final accuracy:  0.46048109965635736\n",
      "Confusion matrix:  tensor([[  0,   0,   0,  21,   0,   0,   0,   0,   0,   0,   0],\n",
      "        [  0,   0,   0,  37,  13,   0,   0,   0,   0,   0,   0],\n",
      "        [  0,   0,  14,   1,   0,   0,   0,   0,   0,   0,   0],\n",
      "        [  0,   0,   0, 147,  14,   0,   0,   0,   0,   0,   0],\n",
      "        [  0,   0,   0,  65, 107,   0,   0,   0,   0,   0,   0],\n",
      "        [  0,   0,   0,  49,  11,   0,   0,   0,   0,   0,   0],\n",
      "        [  0,   0,   0,   7,  13,   0,   0,   0,   0,   0,   0],\n",
      "        [  0,   1,   0,   3,  22,   0,   0,   0,   0,   0,   0],\n",
      "        [  0,   0,   3,   1,  31,   0,   0,   0,   0,   0,   0],\n",
      "        [  0,   0,   0,  12,   2,   0,   0,   0,   0,   0,   0],\n",
      "        [  0,   0,   0,   0,   8,   0,   0,   0,   0,   0,   0]])\n",
      "Precision:  tensor([0.0000, 0.0000, 0.8235, 0.4286, 0.4842, 0.0000, 0.0000, 0.0000, 0.0000,\n",
      "        0.0000, 0.0000], dtype=torch.float64)\n",
      "Recall:  tensor([0.0000, 0.0000, 0.9333, 0.9130, 0.6221, 0.0000, 0.0000, 0.0000, 0.0000,\n",
      "        0.0000, 0.0000], dtype=torch.float64)\n",
      "__  --  __  --  __  --  __  --  __  --\n",
      "resnet50\n"
     ]
    },
    {
     "name": "stderr",
     "output_type": "stream",
     "text": [
      "Downloading: \"https://download.pytorch.org/models/resnet50-19c8e357.pth\" to /home/sergey/.cache/torch/checkpoints/resnet50-19c8e357.pth\n",
      "100%|██████████| 97.8M/97.8M [00:24<00:00, 4.14MB/s]\n"
     ]
    },
    {
     "name": "stdout",
     "output_type": "stream",
     "text": [
      "Device:  cuda\n",
      "Training Results - Epoch: 1  Avg accuracy: 0.18 Avg loss: -1.85\n",
      "Validation Results - Epoch: 1  Accuracy: 0.16  loss: -1.55\n",
      "Final accuracy:  0.1718213058419244\n",
      "Confusion matrix:  tensor([[  0,   0,  21,   0,   0,   0,   0,   0,   0,   0,   0],\n",
      "        [  0,   0,  15,  30,   5,   0,   0,   0,   0,   0,   0],\n",
      "        [  0,   0,   4,   0,  11,   0,   0,   0,   0,   0,   0],\n",
      "        [  0,   0,  42,  56,  63,   0,   0,   0,   0,   0,   0],\n",
      "        [  0,   0, 119,  13,  40,   0,   0,   0,   0,   0,   0],\n",
      "        [  0,   0,  43,  13,   4,   0,   0,   0,   0,   0,   0],\n",
      "        [  0,   0,  17,   0,   3,   0,   0,   0,   0,   0,   0],\n",
      "        [  0,   0,  19,   1,   6,   0,   0,   0,   0,   0,   0],\n",
      "        [  0,   0,  15,   0,  17,   3,   0,   0,   0,   0,   0],\n",
      "        [  0,   0,   6,   7,   1,   0,   0,   0,   0,   0,   0],\n",
      "        [  0,   0,   4,   0,   4,   0,   0,   0,   0,   0,   0]])\n",
      "Precision:  tensor([0.0000, 0.0000, 0.0131, 0.4667, 0.2597, 0.0000, 0.0000, 0.0000, 0.0000,\n",
      "        0.0000, 0.0000], dtype=torch.float64)\n",
      "Recall:  tensor([0.0000, 0.0000, 0.2667, 0.3478, 0.2326, 0.0000, 0.0000, 0.0000, 0.0000,\n",
      "        0.0000, 0.0000], dtype=torch.float64)\n",
      "__  --  __  --  __  --  __  --  __  --\n",
      "resnet50\n",
      "Device:  cuda\n",
      "Training Results - Epoch: 1  Avg accuracy: 0.76 Avg loss: -25.64\n",
      "Validation Results - Epoch: 1  Accuracy: 0.45  loss: -11.94\n",
      "Final accuracy:  0.46735395189003437\n",
      "Confusion matrix:  tensor([[  0,   0,   0,  21,   0,   0,   0,   0,   0,   0,   0],\n",
      "        [  0,   0,   0,  39,  11,   0,   0,   0,   0,   0,   0],\n",
      "        [  0,   0,  13,   2,   0,   0,   0,   0,   0,   0,   0],\n",
      "        [  0,   0,   0, 150,  11,   0,   0,   0,   0,   0,   0],\n",
      "        [  0,   0,   0,  62, 109,   1,   0,   0,   0,   0,   0],\n",
      "        [  0,   0,   0,  60,   0,   0,   0,   0,   0,   0,   0],\n",
      "        [  0,   0,   0,  12,   8,   0,   0,   0,   0,   0,   0],\n",
      "        [  0,   0,   0,   4,  22,   0,   0,   0,   0,   0,   0],\n",
      "        [  0,   0,   9,   3,  23,   0,   0,   0,   0,   0,   0],\n",
      "        [  0,   0,   0,  12,   2,   0,   0,   0,   0,   0,   0],\n",
      "        [  0,   0,   0,   0,   8,   0,   0,   0,   0,   0,   0]])\n",
      "Precision:  tensor([0.0000, 0.0000, 0.5909, 0.4110, 0.5619, 0.0000, 0.0000, 0.0000, 0.0000,\n",
      "        0.0000, 0.0000], dtype=torch.float64)\n",
      "Recall:  tensor([0.0000, 0.0000, 0.8667, 0.9317, 0.6337, 0.0000, 0.0000, 0.0000, 0.0000,\n",
      "        0.0000, 0.0000], dtype=torch.float64)\n",
      "__  --  __  --  __  --  __  --  __  --\n",
      "alexnet\n"
     ]
    },
    {
     "name": "stderr",
     "output_type": "stream",
     "text": [
      "Downloading: \"https://download.pytorch.org/models/alexnet-owt-4df8aa71.pth\" to /home/sergey/.cache/torch/checkpoints/alexnet-owt-4df8aa71.pth\n",
      "100%|██████████| 233M/233M [01:32<00:00, 2.64MB/s] \n"
     ]
    },
    {
     "name": "stdout",
     "output_type": "stream",
     "text": [
      "Device:  cuda\n",
      "Training Results - Epoch: 1  Avg accuracy: 0.65 Avg loss: -1.73\n",
      "Validation Results - Epoch: 1  Accuracy: 0.26  loss: -1.03\n",
      "Final accuracy:  0.28865979381443296\n",
      "Confusion matrix:  tensor([[  0,   0,   0,  19,   0,   2,   0,   0,   0,   0,   0],\n",
      "        [  0,   0,   0,  41,   9,   0,   0,   0,   0,   0,   0],\n",
      "        [  0,   0,   7,   1,   7,   0,   0,   0,   0,   0,   0],\n",
      "        [  0,   0,  14, 105,  42,   0,   0,   0,   0,   0,   0],\n",
      "        [  0,   0,  77,  48,  47,   0,   0,   0,   0,   0,   0],\n",
      "        [  0,   5,   5,  18,  19,   9,   0,   0,   4,   0,   0],\n",
      "        [  1,   0,   0,  16,   3,   0,   0,   0,   0,   0,   0],\n",
      "        [  2,   0,   2,   6,  16,   0,   0,   0,   0,   0,   0],\n",
      "        [  0,   0,   7,   4,  24,   0,   0,   0,   0,   0,   0],\n",
      "        [  0,   0,   0,  13,   0,   0,   0,   0,   0,   0,   1],\n",
      "        [  0,   0,   0,   3,   5,   0,   0,   0,   0,   0,   0]])\n",
      "Precision:  tensor([0.0000, 0.0000, 0.0625, 0.3832, 0.2733, 0.8182, 0.0000, 0.0000, 0.0000,\n",
      "        0.0000, 0.0000], dtype=torch.float64)\n",
      "Recall:  tensor([0.0000, 0.0000, 0.4667, 0.6522, 0.2733, 0.1500, 0.0000, 0.0000, 0.0000,\n",
      "        0.0000, 0.0000], dtype=torch.float64)\n",
      "__  --  __  --  __  --  __  --  __  --\n",
      "alexnet\n",
      "Device:  cuda\n",
      "Training Results - Epoch: 1  Avg accuracy: 0.35 Avg loss: -150.93\n",
      "Validation Results - Epoch: 1  Accuracy: 0.28  loss: -120.66\n",
      "Final accuracy:  0.2766323024054983\n",
      "Confusion matrix:  tensor([[  0,   0,   0,  21,   0,   0,   0,   0,   0,   0,   0],\n",
      "        [  0,   0,   0,  50,   0,   0,   0,   0,   0,   0,   0],\n",
      "        [  0,   0,   0,  15,   0,   0,   0,   0,   0,   0,   0],\n",
      "        [  0,   0,   0, 161,   0,   0,   0,   0,   0,   0,   0],\n",
      "        [  0,   0,   0, 172,   0,   0,   0,   0,   0,   0,   0],\n",
      "        [  0,   0,   0,  60,   0,   0,   0,   0,   0,   0,   0],\n",
      "        [  0,   0,   0,  20,   0,   0,   0,   0,   0,   0,   0],\n",
      "        [  0,   0,   0,  26,   0,   0,   0,   0,   0,   0,   0],\n",
      "        [  0,   0,   0,  35,   0,   0,   0,   0,   0,   0,   0],\n",
      "        [  0,   0,   0,  14,   0,   0,   0,   0,   0,   0,   0],\n",
      "        [  0,   0,   0,   8,   0,   0,   0,   0,   0,   0,   0]])\n",
      "Precision:  tensor([0.0000, 0.0000, 0.0000, 0.2766, 0.0000, 0.0000, 0.0000, 0.0000, 0.0000,\n",
      "        0.0000, 0.0000], dtype=torch.float64)\n",
      "Recall:  tensor([0., 0., 0., 1., 0., 0., 0., 0., 0., 0., 0.], dtype=torch.float64)\n",
      "__  --  __  --  __  --  __  --  __  --\n",
      "vgg\n"
     ]
    },
    {
     "name": "stderr",
     "output_type": "stream",
     "text": [
      "Downloading: \"https://download.pytorch.org/models/vgg11_bn-6002323d.pth\" to /home/sergey/.cache/torch/checkpoints/vgg11_bn-6002323d.pth\n",
      "100%|██████████| 507M/507M [01:18<00:00, 6.79MB/s] \n"
     ]
    },
    {
     "name": "stdout",
     "output_type": "stream",
     "text": [
      "Device:  cuda\n",
      "Training Results - Epoch: 1  Avg accuracy: 0.47 Avg loss: -1.27\n",
      "Validation Results - Epoch: 1  Accuracy: 0.40  loss: -0.96\n",
      "Final accuracy:  0.38831615120274915\n",
      "Confusion matrix:  tensor([[  0,   0,   0,  18,   3,   0,   0,   0,   0,   0,   0],\n",
      "        [  0,   0,   0,  40,  10,   0,   0,   0,   0,   0,   0],\n",
      "        [  0,   0,   0,   4,  11,   0,   0,   0,   0,   0,   0],\n",
      "        [  0,   0,   0, 138,  23,   0,   0,   0,   0,   0,   0],\n",
      "        [  0,   0,   0,  84,  88,   0,   0,   0,   0,   0,   0],\n",
      "        [  0,   0,   0,  45,  15,   0,   0,   0,   0,   0,   0],\n",
      "        [  0,   0,   0,   8,  12,   0,   0,   0,   0,   0,   0],\n",
      "        [  0,   0,   0,  15,  11,   0,   0,   0,   0,   0,   0],\n",
      "        [  0,   0,   0,   6,  29,   0,   0,   0,   0,   0,   0],\n",
      "        [  0,   0,   0,  12,   2,   0,   0,   0,   0,   0,   0],\n",
      "        [  0,   0,   0,   3,   5,   0,   0,   0,   0,   0,   0]])\n",
      "Precision:  tensor([0.0000, 0.0000, 0.0000, 0.3700, 0.4211, 0.0000, 0.0000, 0.0000, 0.0000,\n",
      "        0.0000, 0.0000], dtype=torch.float64)\n",
      "Recall:  tensor([0.0000, 0.0000, 0.0000, 0.8571, 0.5116, 0.0000, 0.0000, 0.0000, 0.0000,\n",
      "        0.0000, 0.0000], dtype=torch.float64)\n",
      "__  --  __  --  __  --  __  --  __  --\n",
      "vgg\n",
      "Device:  cuda\n"
     ]
    },
    {
     "name": "stderr",
     "output_type": "stream",
     "text": [
      "Current run is terminating due to exception: CUDA out of memory. Tried to allocate 392.00 MiB (GPU 0; 3.95 GiB total capacity; 2.27 GiB already allocated; 241.44 MiB free; 60.36 MiB cached).\n",
      "Engine run is terminating due to exception: CUDA out of memory. Tried to allocate 392.00 MiB (GPU 0; 3.95 GiB total capacity; 2.27 GiB already allocated; 241.44 MiB free; 60.36 MiB cached).\n"
     ]
    },
    {
     "ename": "RuntimeError",
     "evalue": "CUDA out of memory. Tried to allocate 392.00 MiB (GPU 0; 3.95 GiB total capacity; 2.27 GiB already allocated; 241.44 MiB free; 60.36 MiB cached)",
     "output_type": "error",
     "traceback": [
      "\u001b[0;31m-------------------------------------------\u001b[0m",
      "\u001b[0;31mRuntimeError\u001b[0mTraceback (most recent call last)",
      "\u001b[0;32m<ipython-input-7-8db9f841f0b3>\u001b[0m in \u001b[0;36m<module>\u001b[0;34m\u001b[0m\n\u001b[0;32m----> 1\u001b[0;31m \u001b[0mtest_all_models\u001b[0m\u001b[0;34m(\u001b[0m\u001b[0mmodel_zoo\u001b[0m\u001b[0;34m)\u001b[0m\u001b[0;34m\u001b[0m\u001b[0;34m\u001b[0m\u001b[0m\n\u001b[0m",
      "\u001b[0;32m<ipython-input-6-bf613caa01b3>\u001b[0m in \u001b[0;36mtest_all_models\u001b[0;34m(model_zoo)\u001b[0m\n\u001b[1;32m     25\u001b[0m             }\n\u001b[1;32m     26\u001b[0m \u001b[0;34m\u001b[0m\u001b[0m\n\u001b[0;32m---> 27\u001b[0;31m             \u001b[0mmodel\u001b[0m\u001b[0;34m,\u001b[0m \u001b[0moptimizer\u001b[0m\u001b[0;34m,\u001b[0m \u001b[0mscheduler\u001b[0m\u001b[0;34m,\u001b[0m \u001b[0mstats\u001b[0m \u001b[0;34m=\u001b[0m \u001b[0mtrain\u001b[0m\u001b[0;34m(\u001b[0m\u001b[0mparams\u001b[0m\u001b[0;34m,\u001b[0m \u001b[0mget_Arctic_data_loaders\u001b[0m\u001b[0;34m,\u001b[0m \u001b[0mreduce_train\u001b[0m\u001b[0;34m=\u001b[0m\u001b[0;36m0.01\u001b[0m\u001b[0;34m)\u001b[0m\u001b[0;34m\u001b[0m\u001b[0;34m\u001b[0m\u001b[0m\n\u001b[0m\u001b[1;32m     28\u001b[0m             \u001b[0mprint\u001b[0m\u001b[0;34m(\u001b[0m\u001b[0;34m'__  --  __  --  __  --  __  --  __  --'\u001b[0m\u001b[0;34m)\u001b[0m\u001b[0;34m\u001b[0m\u001b[0;34m\u001b[0m\u001b[0m\n",
      "\u001b[0;32m~/Projects/pytorch-classification-pipeline/scripts/trainers.py\u001b[0m in \u001b[0;36mtrain\u001b[0;34m(params, dataloaders_gen, continue_training, stats, scheduler, reduce_train)\u001b[0m\n\u001b[1;32m    215\u001b[0m         \u001b[0mruns_df\u001b[0m\u001b[0;34m.\u001b[0m\u001b[0mto_csv\u001b[0m\u001b[0;34m(\u001b[0m\u001b[0;34m'runs.csv'\u001b[0m\u001b[0;34m)\u001b[0m\u001b[0;34m\u001b[0m\u001b[0;34m\u001b[0m\u001b[0m\n\u001b[1;32m    216\u001b[0m \u001b[0;34m\u001b[0m\u001b[0m\n\u001b[0;32m--> 217\u001b[0;31m     \u001b[0mtrainer\u001b[0m\u001b[0;34m.\u001b[0m\u001b[0mrun\u001b[0m\u001b[0;34m(\u001b[0m\u001b[0mtrain_loader\u001b[0m\u001b[0;34m,\u001b[0m \u001b[0mmax_epochs\u001b[0m\u001b[0;34m=\u001b[0m\u001b[0mparams\u001b[0m\u001b[0;34m[\u001b[0m\u001b[0;34m'epochs'\u001b[0m\u001b[0;34m]\u001b[0m\u001b[0;34m)\u001b[0m\u001b[0;34m\u001b[0m\u001b[0;34m\u001b[0m\u001b[0m\n\u001b[0m\u001b[1;32m    218\u001b[0m \u001b[0;34m\u001b[0m\u001b[0m\n\u001b[1;32m    219\u001b[0m     \u001b[0;32mif\u001b[0m \u001b[0mparams\u001b[0m\u001b[0;34m[\u001b[0m\u001b[0;34m'tensorboard'\u001b[0m\u001b[0;34m]\u001b[0m\u001b[0;34m:\u001b[0m\u001b[0;34m\u001b[0m\u001b[0;34m\u001b[0m\u001b[0m\n",
      "\u001b[0;32m~/miniconda3/lib/python3.7/site-packages/ignite/engine/engine.py\u001b[0m in \u001b[0;36mrun\u001b[0;34m(self, data, max_epochs, epoch_length, seed)\u001b[0m\n\u001b[1;32m    848\u001b[0m \u001b[0;34m\u001b[0m\u001b[0m\n\u001b[1;32m    849\u001b[0m         \u001b[0mself\u001b[0m\u001b[0;34m.\u001b[0m\u001b[0mstate\u001b[0m\u001b[0;34m.\u001b[0m\u001b[0mdataloader\u001b[0m \u001b[0;34m=\u001b[0m \u001b[0mdata\u001b[0m\u001b[0;34m\u001b[0m\u001b[0;34m\u001b[0m\u001b[0m\n\u001b[0;32m--> 850\u001b[0;31m         \u001b[0;32mreturn\u001b[0m \u001b[0mself\u001b[0m\u001b[0;34m.\u001b[0m\u001b[0m_internal_run\u001b[0m\u001b[0;34m(\u001b[0m\u001b[0;34m)\u001b[0m\u001b[0;34m\u001b[0m\u001b[0;34m\u001b[0m\u001b[0m\n\u001b[0m\u001b[1;32m    851\u001b[0m \u001b[0;34m\u001b[0m\u001b[0m\n\u001b[1;32m    852\u001b[0m     \u001b[0;32mdef\u001b[0m \u001b[0m_setup_engine\u001b[0m\u001b[0;34m(\u001b[0m\u001b[0mself\u001b[0m\u001b[0;34m)\u001b[0m\u001b[0;34m:\u001b[0m\u001b[0;34m\u001b[0m\u001b[0;34m\u001b[0m\u001b[0m\n",
      "\u001b[0;32m~/miniconda3/lib/python3.7/site-packages/ignite/engine/engine.py\u001b[0m in \u001b[0;36m_internal_run\u001b[0;34m(self)\u001b[0m\n\u001b[1;32m    950\u001b[0m             \u001b[0mself\u001b[0m\u001b[0;34m.\u001b[0m\u001b[0m_dataloader_iter\u001b[0m \u001b[0;34m=\u001b[0m \u001b[0mself\u001b[0m\u001b[0;34m.\u001b[0m\u001b[0m_dataloader_len\u001b[0m \u001b[0;34m=\u001b[0m \u001b[0;32mNone\u001b[0m\u001b[0;34m\u001b[0m\u001b[0;34m\u001b[0m\u001b[0m\n\u001b[1;32m    951\u001b[0m             \u001b[0mself\u001b[0m\u001b[0;34m.\u001b[0m\u001b[0mlogger\u001b[0m\u001b[0;34m.\u001b[0m\u001b[0merror\u001b[0m\u001b[0;34m(\u001b[0m\u001b[0;34m\"Engine run is terminating due to exception: %s.\"\u001b[0m\u001b[0;34m,\u001b[0m \u001b[0mstr\u001b[0m\u001b[0;34m(\u001b[0m\u001b[0me\u001b[0m\u001b[0;34m)\u001b[0m\u001b[0;34m)\u001b[0m\u001b[0;34m\u001b[0m\u001b[0;34m\u001b[0m\u001b[0m\n\u001b[0;32m--> 952\u001b[0;31m             \u001b[0mself\u001b[0m\u001b[0;34m.\u001b[0m\u001b[0m_handle_exception\u001b[0m\u001b[0;34m(\u001b[0m\u001b[0me\u001b[0m\u001b[0;34m)\u001b[0m\u001b[0;34m\u001b[0m\u001b[0;34m\u001b[0m\u001b[0m\n\u001b[0m\u001b[1;32m    953\u001b[0m \u001b[0;34m\u001b[0m\u001b[0m\n\u001b[1;32m    954\u001b[0m         \u001b[0mself\u001b[0m\u001b[0;34m.\u001b[0m\u001b[0m_dataloader_iter\u001b[0m \u001b[0;34m=\u001b[0m \u001b[0mself\u001b[0m\u001b[0;34m.\u001b[0m\u001b[0m_dataloader_len\u001b[0m \u001b[0;34m=\u001b[0m \u001b[0;32mNone\u001b[0m\u001b[0;34m\u001b[0m\u001b[0;34m\u001b[0m\u001b[0m\n",
      "\u001b[0;32m~/miniconda3/lib/python3.7/site-packages/ignite/engine/engine.py\u001b[0m in \u001b[0;36m_handle_exception\u001b[0;34m(self, e)\u001b[0m\n\u001b[1;32m    714\u001b[0m             \u001b[0mself\u001b[0m\u001b[0;34m.\u001b[0m\u001b[0m_fire_event\u001b[0m\u001b[0;34m(\u001b[0m\u001b[0mEvents\u001b[0m\u001b[0;34m.\u001b[0m\u001b[0mEXCEPTION_RAISED\u001b[0m\u001b[0;34m,\u001b[0m \u001b[0me\u001b[0m\u001b[0;34m)\u001b[0m\u001b[0;34m\u001b[0m\u001b[0;34m\u001b[0m\u001b[0m\n\u001b[1;32m    715\u001b[0m         \u001b[0;32melse\u001b[0m\u001b[0;34m:\u001b[0m\u001b[0;34m\u001b[0m\u001b[0;34m\u001b[0m\u001b[0m\n\u001b[0;32m--> 716\u001b[0;31m             \u001b[0;32mraise\u001b[0m \u001b[0me\u001b[0m\u001b[0;34m\u001b[0m\u001b[0;34m\u001b[0m\u001b[0m\n\u001b[0m\u001b[1;32m    717\u001b[0m \u001b[0;34m\u001b[0m\u001b[0m\n\u001b[1;32m    718\u001b[0m     \u001b[0;32mdef\u001b[0m \u001b[0mstate_dict\u001b[0m\u001b[0;34m(\u001b[0m\u001b[0mself\u001b[0m\u001b[0;34m)\u001b[0m\u001b[0;34m:\u001b[0m\u001b[0;34m\u001b[0m\u001b[0;34m\u001b[0m\u001b[0m\n",
      "\u001b[0;32m~/miniconda3/lib/python3.7/site-packages/ignite/engine/engine.py\u001b[0m in \u001b[0;36m_internal_run\u001b[0;34m(self)\u001b[0m\n\u001b[1;32m    935\u001b[0m                     \u001b[0mself\u001b[0m\u001b[0;34m.\u001b[0m\u001b[0m_setup_engine\u001b[0m\u001b[0;34m(\u001b[0m\u001b[0;34m)\u001b[0m\u001b[0;34m\u001b[0m\u001b[0;34m\u001b[0m\u001b[0m\n\u001b[1;32m    936\u001b[0m \u001b[0;34m\u001b[0m\u001b[0m\n\u001b[0;32m--> 937\u001b[0;31m                 \u001b[0mhours\u001b[0m\u001b[0;34m,\u001b[0m \u001b[0mmins\u001b[0m\u001b[0;34m,\u001b[0m \u001b[0msecs\u001b[0m \u001b[0;34m=\u001b[0m \u001b[0mself\u001b[0m\u001b[0;34m.\u001b[0m\u001b[0m_run_once_on_dataset\u001b[0m\u001b[0;34m(\u001b[0m\u001b[0;34m)\u001b[0m\u001b[0;34m\u001b[0m\u001b[0;34m\u001b[0m\u001b[0m\n\u001b[0m\u001b[1;32m    938\u001b[0m \u001b[0;34m\u001b[0m\u001b[0m\n\u001b[1;32m    939\u001b[0m                 \u001b[0mself\u001b[0m\u001b[0;34m.\u001b[0m\u001b[0mlogger\u001b[0m\u001b[0;34m.\u001b[0m\u001b[0minfo\u001b[0m\u001b[0;34m(\u001b[0m\u001b[0;34m\"Epoch[%s] Complete. Time taken: %02d:%02d:%02d\"\u001b[0m\u001b[0;34m,\u001b[0m \u001b[0mself\u001b[0m\u001b[0;34m.\u001b[0m\u001b[0mstate\u001b[0m\u001b[0;34m.\u001b[0m\u001b[0mepoch\u001b[0m\u001b[0;34m,\u001b[0m \u001b[0mhours\u001b[0m\u001b[0;34m,\u001b[0m \u001b[0mmins\u001b[0m\u001b[0;34m,\u001b[0m \u001b[0msecs\u001b[0m\u001b[0;34m)\u001b[0m\u001b[0;34m\u001b[0m\u001b[0;34m\u001b[0m\u001b[0m\n",
      "\u001b[0;32m~/miniconda3/lib/python3.7/site-packages/ignite/engine/engine.py\u001b[0m in \u001b[0;36m_run_once_on_dataset\u001b[0;34m(self)\u001b[0m\n\u001b[1;32m    703\u001b[0m         \u001b[0;32mexcept\u001b[0m \u001b[0mBaseException\u001b[0m \u001b[0;32mas\u001b[0m \u001b[0me\u001b[0m\u001b[0;34m:\u001b[0m\u001b[0;34m\u001b[0m\u001b[0;34m\u001b[0m\u001b[0m\n\u001b[1;32m    704\u001b[0m             \u001b[0mself\u001b[0m\u001b[0;34m.\u001b[0m\u001b[0mlogger\u001b[0m\u001b[0;34m.\u001b[0m\u001b[0merror\u001b[0m\u001b[0;34m(\u001b[0m\u001b[0;34m\"Current run is terminating due to exception: %s.\"\u001b[0m\u001b[0;34m,\u001b[0m \u001b[0mstr\u001b[0m\u001b[0;34m(\u001b[0m\u001b[0me\u001b[0m\u001b[0;34m)\u001b[0m\u001b[0;34m)\u001b[0m\u001b[0;34m\u001b[0m\u001b[0;34m\u001b[0m\u001b[0m\n\u001b[0;32m--> 705\u001b[0;31m             \u001b[0mself\u001b[0m\u001b[0;34m.\u001b[0m\u001b[0m_handle_exception\u001b[0m\u001b[0;34m(\u001b[0m\u001b[0me\u001b[0m\u001b[0;34m)\u001b[0m\u001b[0;34m\u001b[0m\u001b[0;34m\u001b[0m\u001b[0m\n\u001b[0m\u001b[1;32m    706\u001b[0m \u001b[0;34m\u001b[0m\u001b[0m\n\u001b[1;32m    707\u001b[0m         \u001b[0mtime_taken\u001b[0m \u001b[0;34m=\u001b[0m \u001b[0mtime\u001b[0m\u001b[0;34m.\u001b[0m\u001b[0mtime\u001b[0m\u001b[0;34m(\u001b[0m\u001b[0;34m)\u001b[0m \u001b[0;34m-\u001b[0m \u001b[0mstart_time\u001b[0m\u001b[0;34m\u001b[0m\u001b[0;34m\u001b[0m\u001b[0m\n",
      "\u001b[0;32m~/miniconda3/lib/python3.7/site-packages/ignite/engine/engine.py\u001b[0m in \u001b[0;36m_handle_exception\u001b[0;34m(self, e)\u001b[0m\n\u001b[1;32m    714\u001b[0m             \u001b[0mself\u001b[0m\u001b[0;34m.\u001b[0m\u001b[0m_fire_event\u001b[0m\u001b[0;34m(\u001b[0m\u001b[0mEvents\u001b[0m\u001b[0;34m.\u001b[0m\u001b[0mEXCEPTION_RAISED\u001b[0m\u001b[0;34m,\u001b[0m \u001b[0me\u001b[0m\u001b[0;34m)\u001b[0m\u001b[0;34m\u001b[0m\u001b[0;34m\u001b[0m\u001b[0m\n\u001b[1;32m    715\u001b[0m         \u001b[0;32melse\u001b[0m\u001b[0;34m:\u001b[0m\u001b[0;34m\u001b[0m\u001b[0;34m\u001b[0m\u001b[0m\n\u001b[0;32m--> 716\u001b[0;31m             \u001b[0;32mraise\u001b[0m \u001b[0me\u001b[0m\u001b[0;34m\u001b[0m\u001b[0;34m\u001b[0m\u001b[0m\n\u001b[0m\u001b[1;32m    717\u001b[0m \u001b[0;34m\u001b[0m\u001b[0m\n\u001b[1;32m    718\u001b[0m     \u001b[0;32mdef\u001b[0m \u001b[0mstate_dict\u001b[0m\u001b[0;34m(\u001b[0m\u001b[0mself\u001b[0m\u001b[0;34m)\u001b[0m\u001b[0;34m:\u001b[0m\u001b[0;34m\u001b[0m\u001b[0;34m\u001b[0m\u001b[0m\n",
      "\u001b[0;32m~/miniconda3/lib/python3.7/site-packages/ignite/engine/engine.py\u001b[0m in \u001b[0;36m_run_once_on_dataset\u001b[0;34m(self)\u001b[0m\n\u001b[1;32m    686\u001b[0m                 \u001b[0mself\u001b[0m\u001b[0;34m.\u001b[0m\u001b[0mstate\u001b[0m\u001b[0;34m.\u001b[0m\u001b[0miteration\u001b[0m \u001b[0;34m+=\u001b[0m \u001b[0;36m1\u001b[0m\u001b[0;34m\u001b[0m\u001b[0;34m\u001b[0m\u001b[0m\n\u001b[1;32m    687\u001b[0m                 \u001b[0mself\u001b[0m\u001b[0;34m.\u001b[0m\u001b[0m_fire_event\u001b[0m\u001b[0;34m(\u001b[0m\u001b[0mEvents\u001b[0m\u001b[0;34m.\u001b[0m\u001b[0mITERATION_STARTED\u001b[0m\u001b[0;34m)\u001b[0m\u001b[0;34m\u001b[0m\u001b[0;34m\u001b[0m\u001b[0m\n\u001b[0;32m--> 688\u001b[0;31m                 \u001b[0mself\u001b[0m\u001b[0;34m.\u001b[0m\u001b[0mstate\u001b[0m\u001b[0;34m.\u001b[0m\u001b[0moutput\u001b[0m \u001b[0;34m=\u001b[0m \u001b[0mself\u001b[0m\u001b[0;34m.\u001b[0m\u001b[0m_process_function\u001b[0m\u001b[0;34m(\u001b[0m\u001b[0mself\u001b[0m\u001b[0;34m,\u001b[0m \u001b[0mself\u001b[0m\u001b[0;34m.\u001b[0m\u001b[0mstate\u001b[0m\u001b[0;34m.\u001b[0m\u001b[0mbatch\u001b[0m\u001b[0;34m)\u001b[0m\u001b[0;34m\u001b[0m\u001b[0;34m\u001b[0m\u001b[0m\n\u001b[0m\u001b[1;32m    689\u001b[0m                 \u001b[0mself\u001b[0m\u001b[0;34m.\u001b[0m\u001b[0m_fire_event\u001b[0m\u001b[0;34m(\u001b[0m\u001b[0mEvents\u001b[0m\u001b[0;34m.\u001b[0m\u001b[0mITERATION_COMPLETED\u001b[0m\u001b[0;34m)\u001b[0m\u001b[0;34m\u001b[0m\u001b[0;34m\u001b[0m\u001b[0m\n\u001b[1;32m    690\u001b[0m \u001b[0;34m\u001b[0m\u001b[0m\n",
      "\u001b[0;32m~/miniconda3/lib/python3.7/site-packages/ignite/engine/__init__.py\u001b[0m in \u001b[0;36m_update\u001b[0;34m(engine, batch)\u001b[0m\n\u001b[1;32m     49\u001b[0m         \u001b[0my_pred\u001b[0m \u001b[0;34m=\u001b[0m \u001b[0mmodel\u001b[0m\u001b[0;34m(\u001b[0m\u001b[0mx\u001b[0m\u001b[0;34m)\u001b[0m\u001b[0;34m\u001b[0m\u001b[0;34m\u001b[0m\u001b[0m\n\u001b[1;32m     50\u001b[0m         \u001b[0mloss\u001b[0m \u001b[0;34m=\u001b[0m \u001b[0mloss_fn\u001b[0m\u001b[0;34m(\u001b[0m\u001b[0my_pred\u001b[0m\u001b[0;34m,\u001b[0m \u001b[0my\u001b[0m\u001b[0;34m)\u001b[0m\u001b[0;34m\u001b[0m\u001b[0;34m\u001b[0m\u001b[0m\n\u001b[0;32m---> 51\u001b[0;31m         \u001b[0mloss\u001b[0m\u001b[0;34m.\u001b[0m\u001b[0mbackward\u001b[0m\u001b[0;34m(\u001b[0m\u001b[0;34m)\u001b[0m\u001b[0;34m\u001b[0m\u001b[0;34m\u001b[0m\u001b[0m\n\u001b[0m\u001b[1;32m     52\u001b[0m         \u001b[0moptimizer\u001b[0m\u001b[0;34m.\u001b[0m\u001b[0mstep\u001b[0m\u001b[0;34m(\u001b[0m\u001b[0;34m)\u001b[0m\u001b[0;34m\u001b[0m\u001b[0;34m\u001b[0m\u001b[0m\n\u001b[1;32m     53\u001b[0m         \u001b[0;32mreturn\u001b[0m \u001b[0moutput_transform\u001b[0m\u001b[0;34m(\u001b[0m\u001b[0mx\u001b[0m\u001b[0;34m,\u001b[0m \u001b[0my\u001b[0m\u001b[0;34m,\u001b[0m \u001b[0my_pred\u001b[0m\u001b[0;34m,\u001b[0m \u001b[0mloss\u001b[0m\u001b[0;34m)\u001b[0m\u001b[0;34m\u001b[0m\u001b[0;34m\u001b[0m\u001b[0m\n",
      "\u001b[0;32m~/.local/lib/python3.7/site-packages/torch/tensor.py\u001b[0m in \u001b[0;36mbackward\u001b[0;34m(self, gradient, retain_graph, create_graph)\u001b[0m\n\u001b[1;32m    148\u001b[0m                 \u001b[0mproducts\u001b[0m\u001b[0;34m.\u001b[0m \u001b[0mDefaults\u001b[0m \u001b[0mto\u001b[0m\u001b[0;31m \u001b[0m\u001b[0;31m`\u001b[0m\u001b[0;31m`\u001b[0m\u001b[0;32mFalse\u001b[0m\u001b[0;31m`\u001b[0m\u001b[0;31m`\u001b[0m\u001b[0;34m.\u001b[0m\u001b[0;34m\u001b[0m\u001b[0;34m\u001b[0m\u001b[0m\n\u001b[1;32m    149\u001b[0m         \"\"\"\n\u001b[0;32m--> 150\u001b[0;31m         \u001b[0mtorch\u001b[0m\u001b[0;34m.\u001b[0m\u001b[0mautograd\u001b[0m\u001b[0;34m.\u001b[0m\u001b[0mbackward\u001b[0m\u001b[0;34m(\u001b[0m\u001b[0mself\u001b[0m\u001b[0;34m,\u001b[0m \u001b[0mgradient\u001b[0m\u001b[0;34m,\u001b[0m \u001b[0mretain_graph\u001b[0m\u001b[0;34m,\u001b[0m \u001b[0mcreate_graph\u001b[0m\u001b[0;34m)\u001b[0m\u001b[0;34m\u001b[0m\u001b[0;34m\u001b[0m\u001b[0m\n\u001b[0m\u001b[1;32m    151\u001b[0m \u001b[0;34m\u001b[0m\u001b[0m\n\u001b[1;32m    152\u001b[0m     \u001b[0;32mdef\u001b[0m \u001b[0mregister_hook\u001b[0m\u001b[0;34m(\u001b[0m\u001b[0mself\u001b[0m\u001b[0;34m,\u001b[0m \u001b[0mhook\u001b[0m\u001b[0;34m)\u001b[0m\u001b[0;34m:\u001b[0m\u001b[0;34m\u001b[0m\u001b[0;34m\u001b[0m\u001b[0m\n",
      "\u001b[0;32m~/.local/lib/python3.7/site-packages/torch/autograd/__init__.py\u001b[0m in \u001b[0;36mbackward\u001b[0;34m(tensors, grad_tensors, retain_graph, create_graph, grad_variables)\u001b[0m\n\u001b[1;32m     97\u001b[0m     Variable._execution_engine.run_backward(\n\u001b[1;32m     98\u001b[0m         \u001b[0mtensors\u001b[0m\u001b[0;34m,\u001b[0m \u001b[0mgrad_tensors\u001b[0m\u001b[0;34m,\u001b[0m \u001b[0mretain_graph\u001b[0m\u001b[0;34m,\u001b[0m \u001b[0mcreate_graph\u001b[0m\u001b[0;34m,\u001b[0m\u001b[0;34m\u001b[0m\u001b[0;34m\u001b[0m\u001b[0m\n\u001b[0;32m---> 99\u001b[0;31m         allow_unreachable=True)  # allow_unreachable flag\n\u001b[0m\u001b[1;32m    100\u001b[0m \u001b[0;34m\u001b[0m\u001b[0m\n\u001b[1;32m    101\u001b[0m \u001b[0;34m\u001b[0m\u001b[0m\n",
      "\u001b[0;31mRuntimeError\u001b[0m: CUDA out of memory. Tried to allocate 392.00 MiB (GPU 0; 3.95 GiB total capacity; 2.27 GiB already allocated; 241.44 MiB free; 60.36 MiB cached)"
     ]
    }
   ],
   "source": [
    "test_all_models(model_zoo)"
   ]
  },
  {
   "cell_type": "code",
   "execution_count": 17,
   "metadata": {},
   "outputs": [
    {
     "name": "stdout",
     "output_type": "stream",
     "text": [
      "squeezenet\n",
      "Device:  cuda\n",
      "Training Results - Epoch: 1  Avg accuracy: 0.24 Avg loss: -2.41\n",
      "Validation Results - Epoch: 1  Accuracy: 0.19  loss: -2.52\n",
      "Final accuracy:  0.18384879725085912\n",
      "Confusion matrix:  tensor([[  0,   0,   0,   0,  12,   0,   8,   0,   0,   1,   0],\n",
      "        [  0,   4,   0,   1,   0,  11,  32,   0,   2,   0,   0],\n",
      "        [  0,   5,   0,   1,   0,   9,   0,   0,   0,   0,   0],\n",
      "        [  0,  12,   1,  73,   2,  27,  37,   1,   8,   0,   0],\n",
      "        [  0,  15,   0,   6,   2,  10, 129,   2,   8,   0,   0],\n",
      "        [  0,   0,   0,  26,   1,  14,  16,   1,   0,   0,   2],\n",
      "        [  0,   0,   0,   1,   2,   0,  14,   0,   3,   0,   0],\n",
      "        [  0,   0,   0,   3,   0,   0,   3,   0,  20,   0,   0],\n",
      "        [  0,   4,   0,   9,   0,  15,   3,   4,   0,   0,   0],\n",
      "        [  0,   6,   0,   3,   0,   2,   3,   0,   0,   0,   0],\n",
      "        [  0,   3,   0,   0,   0,   3,   0,   0,   2,   0,   0]])\n",
      "Precision:  tensor([0.0000, 0.0816, 0.0000, 0.5935, 0.1053, 0.1538, 0.0571, 0.0000, 0.0000,\n",
      "        0.0000, 0.0000], dtype=torch.float64)\n",
      "Recall:  tensor([0.0000, 0.0800, 0.0000, 0.4534, 0.0116, 0.2333, 0.7000, 0.0000, 0.0000,\n",
      "        0.0000, 0.0000], dtype=torch.float64)\n",
      "__  --  __  --  __  --  __  --  __  --\n",
      "squeezenet\n",
      "Device:  cuda\n",
      "Training Results - Epoch: 1  Avg accuracy: 0.35 Avg loss: -1126.70\n",
      "Validation Results - Epoch: 1  Accuracy: 0.28  loss: -989.71\n",
      "Final accuracy:  0.2766323024054983\n",
      "Confusion matrix:  tensor([[  0,   0,   0,  21,   0,   0,   0,   0,   0,   0,   0],\n",
      "        [  0,   0,   0,  50,   0,   0,   0,   0,   0,   0,   0],\n",
      "        [  0,   0,   0,  15,   0,   0,   0,   0,   0,   0,   0],\n",
      "        [  0,   0,   0, 161,   0,   0,   0,   0,   0,   0,   0],\n",
      "        [  0,   0,   0, 172,   0,   0,   0,   0,   0,   0,   0],\n",
      "        [  0,   0,   0,  60,   0,   0,   0,   0,   0,   0,   0],\n",
      "        [  0,   0,   0,  20,   0,   0,   0,   0,   0,   0,   0],\n",
      "        [  0,   0,   0,  26,   0,   0,   0,   0,   0,   0,   0],\n",
      "        [  0,   0,   0,  35,   0,   0,   0,   0,   0,   0,   0],\n",
      "        [  0,   0,   0,  14,   0,   0,   0,   0,   0,   0,   0],\n",
      "        [  0,   0,   0,   8,   0,   0,   0,   0,   0,   0,   0]])\n",
      "Precision:  tensor([0.0000, 0.0000, 0.0000, 0.2766, 0.0000, 0.0000, 0.0000, 0.0000, 0.0000,\n",
      "        0.0000, 0.0000], dtype=torch.float64)\n",
      "Recall:  tensor([0., 0., 0., 1., 0., 0., 0., 0., 0., 0., 0.], dtype=torch.float64)\n",
      "__  --  __  --  __  --  __  --  __  --\n"
     ]
    }
   ],
   "source": [
    "test_all_models(model_zoo)"
   ]
  },
  {
   "cell_type": "code",
   "execution_count": null,
   "metadata": {},
   "outputs": [],
   "source": [
    "# params = {\n",
    "#     'train_batch_size': 8,\n",
    "#     'val_batch_size': 8,\n",
    "#     'epochs': 10,\n",
    "#     'lr': 1e-3,\n",
    "#     'verbose': True,\n",
    "#     'tensorboard': False,\n",
    "#     'log_interval': 10,\n",
    "#     'log_dir': './tensorboard_logs',\n",
    "#     'model_name': 'ResNet18',\n",
    "#     'model': [model, input_size],\n",
    "#     'criterion': nn.NLLLoss(),\n",
    "# #     'criterion': nn.CrossEntropyLoss(),\n",
    "#     'optimizer': optim.Adam,\n",
    "#     'early_stopping': True,\n",
    "#     'early_stopping_patience': 11,\n",
    "#     'lr_patience': 5,\n",
    "#     'lr_factor': 0.25,\n",
    "#     'min_lr': 1e-5,\n",
    "    \n",
    "# }"
   ]
  },
  {
   "cell_type": "code",
   "execution_count": null,
   "metadata": {},
   "outputs": [],
   "source": []
  },
  {
   "cell_type": "code",
   "execution_count": null,
   "metadata": {},
   "outputs": [],
   "source": [
    "# %%time\n",
    "# model, optimizer, scheduler, stats = train(params, get_Arctic_data_loaders, reduce_train=0.01)"
   ]
  },
  {
   "cell_type": "code",
   "execution_count": null,
   "metadata": {},
   "outputs": [],
   "source": [
    "plot_stats(stats)"
   ]
  },
  {
   "cell_type": "code",
   "execution_count": null,
   "metadata": {},
   "outputs": [],
   "source": []
  },
  {
   "cell_type": "code",
   "execution_count": null,
   "metadata": {},
   "outputs": [],
   "source": []
  },
  {
   "cell_type": "code",
   "execution_count": null,
   "metadata": {},
   "outputs": [],
   "source": []
  },
  {
   "cell_type": "code",
   "execution_count": null,
   "metadata": {},
   "outputs": [],
   "source": [
    "# %%time\n",
    "# model, optimizer, scheduler, stats = continue_training(model, params, get_MNIST_data_loaders, stats, scheduler, optimizer, \n",
    "#                   new_params={\n",
    "#                       'epochs': 2,\n",
    "#                   })"
   ]
  },
  {
   "cell_type": "code",
   "execution_count": null,
   "metadata": {},
   "outputs": [],
   "source": [
    "# plot_stats(stats)"
   ]
  },
  {
   "cell_type": "code",
   "execution_count": null,
   "metadata": {},
   "outputs": [],
   "source": []
  },
  {
   "cell_type": "code",
   "execution_count": null,
   "metadata": {},
   "outputs": [],
   "source": [
    "# model = CNN()\n",
    "# model.load_state_dict(torch.load('./tensorboard_logs/MNIST/saved_models/MNIST_LeNet_lr:0.001_Adam_NLLLoss_37520.pth'))"
   ]
  },
  {
   "cell_type": "code",
   "execution_count": null,
   "metadata": {},
   "outputs": [],
   "source": []
  },
  {
   "cell_type": "code",
   "execution_count": null,
   "metadata": {},
   "outputs": [],
   "source": []
  },
  {
   "cell_type": "code",
   "execution_count": null,
   "metadata": {},
   "outputs": [],
   "source": [
    "# show_batch(train_loader)"
   ]
  },
  {
   "cell_type": "code",
   "execution_count": null,
   "metadata": {},
   "outputs": [],
   "source": []
  },
  {
   "cell_type": "code",
   "execution_count": null,
   "metadata": {},
   "outputs": [],
   "source": []
  }
 ],
 "metadata": {
  "kernelspec": {
   "display_name": "Python 3",
   "language": "python",
   "name": "python3"
  },
  "language_info": {
   "codemirror_mode": {
    "name": "ipython",
    "version": 3
   },
   "file_extension": ".py",
   "mimetype": "text/x-python",
   "name": "python",
   "nbconvert_exporter": "python",
   "pygments_lexer": "ipython3",
   "version": "3.7.4"
  },
  "pycharm": {
   "stem_cell": {
    "cell_type": "raw",
    "metadata": {
     "collapsed": false
    },
    "source": []
   }
  }
 },
 "nbformat": 4,
 "nbformat_minor": 4
}
